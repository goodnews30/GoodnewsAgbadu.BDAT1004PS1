{
 "cells": [
  {
   "cell_type": "markdown",
   "id": "015c11da",
   "metadata": {},
   "source": [
    "Problem Set 1\n",
    "\n",
    "\n",
    "This problem set is based on lectures 1,2 and 3. For a complete list of topics please consult page 2 of the course syllabus. Please consult the “Instructions for Problem Set Submissions” document under course information before submitting your assignment."
   ]
  },
  {
   "cell_type": "code",
   "execution_count": 24,
   "id": "d1ca4b98",
   "metadata": {},
   "outputs": [],
   "source": [
    "#Importing math Library\n",
    "import math"
   ]
  },
  {
   "cell_type": "markdown",
   "id": "eb44dca1",
   "metadata": {},
   "source": [
    "Question 1\n",
    "\n",
    "What data type is each of the following (evaluate where necessary)?"
   ]
  },
  {
   "cell_type": "code",
   "execution_count": 2,
   "id": "d39d38e7",
   "metadata": {},
   "outputs": [
    {
     "name": "stdout",
     "output_type": "stream",
     "text": [
      "<class 'float'>\n",
      "<class 'bool'>\n",
      "<class 'str'>\n",
      "<class 'int'>\n",
      "<class 'str'>\n",
      "<class 'str'>\n",
      "<class 'float'>\n",
      "<class 'int'>\n",
      "<class 'set'>\n",
      "<class 'bool'>\n"
     ]
    }
   ],
   "source": [
    "a = 5.0\n",
    "b = 5>1\n",
    "c ='5'\n",
    "d = 5*2\n",
    "f = '5' * 2\n",
    "g = '5' + '2'\n",
    "h = 5/2\n",
    "i = 5%2\n",
    "j = {5, 2, 1}\n",
    "k = 5 == 3\n",
    "\n",
    "\n",
    "#Print statements\n",
    "\n",
    "print(type(a))\n",
    "print(type(b))\n",
    "print(type(c))\n",
    "print(type(d))\n",
    "print(type(f))\n",
    "print(type(g))\n",
    "print(type(h))\n",
    "print(type(i))\n",
    "print(type(j))\n",
    "print(type(k))"
   ]
  },
  {
   "cell_type": "markdown",
   "id": "8153a394",
   "metadata": {},
   "source": [
    "Print pi in Python using the math module\n",
    "\n",
    "pi = math.pi\n",
    "\n",
    "print(pi)\n",
    "\n",
    "print(type(pi))\n",
    "\n",
    "\n",
    "output\n",
    "<class 'Double'>\n"
   ]
  },
  {
   "cell_type": "markdown",
   "id": "00c275cc",
   "metadata": {},
   "source": [
    "Question 2"
   ]
  },
  {
   "cell_type": "markdown",
   "id": "a2955a1e",
   "metadata": {},
   "source": [
    "Write (and evaluate) python expressions that answer these questions:"
   ]
  },
  {
   "cell_type": "code",
   "execution_count": 3,
   "id": "f7387f58",
   "metadata": {},
   "outputs": [
    {
     "name": "stdout",
     "output_type": "stream",
     "text": [
      "The lenght of letters in Supercalifragilisticexpialidocious is 34\n"
     ]
    }
   ],
   "source": [
    "#a. How many letters are there in 'Supercalifragilisticexpialidocious'?\n",
    "letters = 'Supercalifragilisticexpialidocious'\n",
    "print(f'The lenght of letters in Supercalifragilisticexpialidocious is {len(letters)}')"
   ]
  },
  {
   "cell_type": "code",
   "execution_count": 4,
   "id": "ede3b90c",
   "metadata": {},
   "outputs": [
    {
     "name": "stdout",
     "output_type": "stream",
     "text": [
      "True\n"
     ]
    }
   ],
   "source": [
    "#b. Does 'Supercalifragilisticexpialidocious' contain 'ice' as a substring?\n",
    "print('ice' in letters)"
   ]
  },
  {
   "cell_type": "code",
   "execution_count": 5,
   "id": "d7202df1",
   "metadata": {},
   "outputs": [
    {
     "name": "stdout",
     "output_type": "stream",
     "text": [
      "34 27 34\n",
      "Supercalifragilisticexpialidocious and Bababadalgharaghtakamminarronnkonn are the longest word with the of 34 and 34 respectively\n"
     ]
    }
   ],
   "source": [
    "#c. Which of the following words is the longest: Supercalifragilisticexpialidocious, Honorificabilitudinitatibus, or Bababadalgharaghtakamminarronnkonn?\n",
    "a = \"Supercalifragilisticexpialidocious\"\n",
    "b = \"Honorificabilitudinitatibus\"\n",
    "c = \"Bababadalgharaghtakamminarronnkonn\"\n",
    "\n",
    "la,lb,lc = len(a),len(b),len(c)\n",
    "print(la,lb,lc)\n",
    "print('{} and {} are the longest word with the of {} and {} respectively'.format(a,c,la,lc))"
   ]
  },
  {
   "cell_type": "code",
   "execution_count": 6,
   "id": "7944b12a",
   "metadata": {},
   "outputs": [
    {
     "name": "stdout",
     "output_type": "stream",
     "text": [
      "Bartok is the first composer in the dictionary\n",
      "Buxtehude is the last composer in the dictionary\n"
     ]
    }
   ],
   "source": [
    "#d. Which composer comes first in the dictionary: 'Berlioz', 'Borodin', 'Brian', 'Bartok', 'Bellini', 'Buxtehude', 'Bernstein'. Which one comes last?\n",
    "composer = {'Berlioz', 'Borodin', 'Brian', 'Bartok', 'Bellini', 'Buxtehude', 'Bernstein'}#Create a dictionary composer\n",
    "\n",
    "#Which composer comes first in the dictionary using min()\n",
    "first = min(composer)\n",
    "print('{} is the first composer in the dictionary'.format(first))\n",
    "\n",
    "#Which one comes last using max()\n",
    "last = max(composer)\n",
    "print('{} is the last composer in the dictionary'.format(last))"
   ]
  },
  {
   "cell_type": "markdown",
   "id": "a077c305",
   "metadata": {},
   "source": [
    "Question 3\n",
    "\n",
    "Implement function triangleArea(a,b,c) that takes as input the lengths of the 3 sides of a triangle and returns the area of the triangle. By Heron's formula, the area of a triangle with side lengths a, b, and c is s(s-a)(s-b)(s-c),\n",
    "where s=(a+b+c)/2."
   ]
  },
  {
   "cell_type": "code",
   "execution_count": 7,
   "id": "0d3151b0",
   "metadata": {},
   "outputs": [
    {
     "name": "stdout",
     "output_type": "stream",
     "text": [
      "1.7320508075688772\n"
     ]
    }
   ],
   "source": [
    "def triangleArea(a,b,c):\n",
    "  # calculate the semi-perimeter\n",
    "  s = (a + b + c) / 2\n",
    "\n",
    "# calculate the area\n",
    "  area = (s*(s-a)*(s-b)*(s-c)) ** 0.5\n",
    "  return area\n",
    "  \n",
    "print(triangleArea(2,2,2))"
   ]
  },
  {
   "cell_type": "markdown",
   "id": "369493c3",
   "metadata": {},
   "source": [
    "Question 4\n",
    "\n",
    "Write a program in python to separate odd and even integers in separate arrays. Go to the editor Test Data :Input the number of elements to be stored in the array :5"
   ]
  },
  {
   "cell_type": "code",
   "execution_count": 11,
   "id": "5c30c7f3",
   "metadata": {},
   "outputs": [
    {
     "name": "stdout",
     "output_type": "stream",
     "text": [
      "Input the 5 number of elements to be stored in the array:\n",
      "Element 1:2\n",
      "Element 2:3\n",
      "Element 3:4\n",
      "Element 4:5\n",
      "Element 5:6\n",
      "The Even elements are [2, 4, 6]\n",
      "The odd elements are [3, 5]\n"
     ]
    }
   ],
   "source": [
    "#Create an empty list\n",
    "no_lt = []\n",
    "evenlist = []\n",
    "oddlist = []\n",
    "\n",
    "try:\n",
    "  print(\"Input the 5 number of elements to be stored in the array:\")\n",
    "  e1 = int(input(\"Element 1:\"))\n",
    "  e2 = int(input(\"Element 2:\"))\n",
    "  e3 = int(input(\"Element 3:\"))\n",
    "  e4 = int(input(\"Element 4:\"))\n",
    "  e5 = int(input(\"Element 5:\"))\n",
    "except ValueError:\n",
    "  print(\"Enter only numbers\")\n",
    "\n",
    "no_lt.append(e1)\n",
    "no_lt.append(e2)\n",
    "no_lt.append(e3)\n",
    "no_lt.append(e4)\n",
    "no_lt.append(e5)\n",
    "\n",
    "\n",
    "for e in no_lt:\n",
    "  if (e % 2 == 0):\n",
    "    evenlist.append(e)\n",
    "    \n",
    "  else:\n",
    "    oddlist.append(e)\n",
    "\n",
    "#Print even and odd elements\n",
    "print('The Even elements are {}'.format(evenlist))\n",
    "print('The odd elements are {}'.format(oddlist))"
   ]
  },
  {
   "cell_type": "markdown",
   "id": "19e83495",
   "metadata": {},
   "source": [
    "Question 5\n",
    "\n"
   ]
  },
  {
   "cell_type": "code",
   "execution_count": 12,
   "id": "e42e6b43",
   "metadata": {},
   "outputs": [
    {
     "name": "stdout",
     "output_type": "stream",
     "text": [
      "True\n",
      "False\n"
     ]
    }
   ],
   "source": [
    "#a. Write a function inside(x,y,x1,y1,x2,y2) that returns True or False depending on whether the point (x,y) lies in the rectangle with lower left corner (x1,y1) and upper right corner (x2,y2).\n",
    "\n",
    "# function to show if\n",
    "# given point lies inside or not\n",
    "# a given rectangle or not.\n",
    "\n",
    "def inside(x,y,x1,y1,x2,y2):\n",
    "    if (x > x1 and x < x2 and\n",
    "        y > y1 and y < y2):\n",
    "          return True\n",
    "    else :\n",
    "        return False\n",
    "    \n",
    "print(inside(1,1,0,0,2,3))\n",
    "print(inside(-1,-1,0,0,2,3))"
   ]
  },
  {
   "cell_type": "code",
   "execution_count": 13,
   "id": "8f9b7eb4",
   "metadata": {},
   "outputs": [
    {
     "name": "stdout",
     "output_type": "stream",
     "text": [
      "No\n",
      "Yes\n"
     ]
    }
   ],
   "source": [
    "#b. Use function inside() from part a. to write an expression that tests whether the point (1,1) lies in both of the following rectangles: one with lower left corner (0.3, 0.5) and upper right corner (1.1, 0.7) and the other with lower left corner (0.5, 0.2) and upper right corner (1.1, 2).\n",
    "\n",
    "# use multiple assignment\n",
    "if __name__ == \"__main__\" :\n",
    "\n",
    "  def point1():\n",
    "    x1,y1,x2,y2 = 0.3, 0.5,1.1, 0.7\n",
    "    x,y = 1,1 # given point\n",
    "    if inside(x,y,x1,y1,x2,y2):## function call\n",
    "      print(\"Yes\")\n",
    "    else:\n",
    "      print(\"No\")\n",
    "\n",
    "  def point2():\n",
    "    x1,y1,x2,y2 = 0.5, 0.2,1.1, 2\n",
    "    x,y = 1,1 # given point\n",
    "    if inside(x,y,x1,y1,x2,y2):## function call\n",
    "      print(\"Yes\")\n",
    "    else:\n",
    "      print(\"No\")\n",
    "#call the function to excecute\n",
    "point1()\n",
    "point2()"
   ]
  },
  {
   "cell_type": "markdown",
   "id": "6c330754",
   "metadata": {},
   "source": [
    "Question 6\n",
    "\n",
    "You can turn a word into pig-Latin using the following two rules (simplified): \n",
    "• If the word starts with a consonant, move that letter to the end and append'ay'. For example, 'happy' becomes 'appyhay' and 'pencil' becomes 'encilpay'.\n",
    "• If the word starts with a vowel, simply append 'way' to the end of the word. For example, 'enter' becomes 'enterway' and 'other' becomes 'otherway' . \n",
    "For our purposes, there are 5 vowels: a, e, i, o, u (so we count y as a consonant). \n",
    "Write a function pig() that takes a word (i.e., a string) as input and returns its pig- Latin form. \n",
    "Your function should still work if the input word contains upper case characters. Your output should always be lower case however."
   ]
  },
  {
   "cell_type": "code",
   "execution_count": 14,
   "id": "e4531e84",
   "metadata": {},
   "outputs": [
    {
     "name": "stdout",
     "output_type": "stream",
     "text": [
      "enterway\n",
      "appyhay\n",
      "encilpay\n",
      "oodnewsgay\n"
     ]
    }
   ],
   "source": [
    "#creating function pig\n",
    "def pig(pig_latin):\n",
    "    #applying lower() method so that if input contains Uppercase letter it get converted back\n",
    "    #split() method so that to convert input word to list\n",
    "    split_word = pig_latin.lower().split(\" \") \n",
    "    # declaring Vowels i.e 'a','e','i','o', 'u' \n",
    "    Vowels = ['a', 'e', 'i', 'o', 'u']\n",
    "    #empty piglatin\n",
    "    pig_latin_list = []\n",
    "    for alpha in split_word:\n",
    "        #if Word[0] (i.e first word) of input is in 'aeiou' that is vowel is first\n",
    "        if alpha[0] in 'aeiou': \n",
    "            pig_latin_list.append(alpha + 'way') #append 'way' at last\n",
    "        else:\n",
    "            for letter in alpha:\n",
    "               if letter in 'aeiou': \n",
    "                  pig_latin_list.append(alpha[alpha.index(letter):] + alpha[0:alpha.index(letter)] +'ay') #'nter' + 'e' + 'ay' \n",
    "                  break\n",
    "    print(\" \".join(pig_latin_list)) #add all the items of list\n",
    "\n",
    " # calling pig function\n",
    "pig('Enter') \n",
    "pig('happy') \n",
    "pig('pencil') \n",
    "pig('Goodnews')"
   ]
  },
  {
   "cell_type": "markdown",
   "id": "f6037ca1",
   "metadata": {},
   "source": [
    "Question 6\n",
    "\n",
    "File bloodtype1.txt records blood-types of patients (A, B, AB, O or OO) at a clinic. Write a function bldcount() that reads the file with name name and reports (i.e., prints) how many patients there are in each bloodtype.\n"
   ]
  },
  {
   "cell_type": "code",
   "execution_count": 15,
   "id": "4ff1a33a",
   "metadata": {},
   "outputs": [
    {
     "name": "stdout",
     "output_type": "stream",
     "text": [
      "There are 15 patients of blood type A.\n",
      "There are 1 patients of blood type B.\n",
      "There are 13 patients of blood type AB.\n",
      "There are 15 patients of blood type O.\n",
      "There are 0 patients of blood type OO.\n"
     ]
    }
   ],
   "source": [
    "def bldcount(filename):\n",
    "  #reading the file\n",
    "  x = open(filename,'r')\n",
    "  words = x.readline()\n",
    "  lst = []\n",
    "  blood_types = ['A','B','AB','O','OO']\n",
    "    \n",
    "  #Spliting the words and storing them in a list\n",
    "  lst.append(words.split(\" \"))\n",
    "    \n",
    "  #checking the count for each blood type\n",
    "  for blood_type in blood_types:\n",
    "    print(\"There are {} patients of blood type {}.\".format(lst[0].count(blood_type),blood_type))\n",
    "    \n",
    "bldcount('bloodtype1.txt')"
   ]
  },
  {
   "cell_type": "markdown",
   "id": "9b2822e1",
   "metadata": {},
   "source": [
    "Question 8\n",
    "\n",
    "Write a function curconv() that takes as input:\n",
    "    \n",
    "1. a currency represented using a string (e.g., 'JPY' for the Japanese Yen or 'EUR' for the Euro)\n",
    "\n",
    "2. an amount and then converts and returns the amount in US dollars.\n"
   ]
  },
  {
   "cell_type": "code",
   "execution_count": 16,
   "id": "7b4a3cc5",
   "metadata": {},
   "outputs": [
    {
     "name": "stdout",
     "output_type": "stream",
     "text": [
      "122.96544\n",
      "1.241401\n"
     ]
    }
   ],
   "source": [
    "def curconv(currency,amount):\n",
    "  currencies = {}\n",
    "    \n",
    "    #reading the file to python\n",
    "  currency_file = open('currencies.txt')\n",
    "  currencylines = currency_file.readlines()\n",
    "    \n",
    "    #storing the currency in the key and value pairs\n",
    "  for x in currencylines:\n",
    "    currencies[x[:3].strip()] = x[4:].split(\"\\t\")\n",
    "  value = currencies[currency][0].strip()\n",
    "  print(amount * float(value))\n",
    "\n",
    "curconv('EUR', 100)\n",
    "curconv('JPY', 100)"
   ]
  },
  {
   "cell_type": "markdown",
   "id": "fba7a37b",
   "metadata": {},
   "source": [
    "Question 9\n",
    "\n",
    "Each of the following will cause an exception (an error). Identify what type of exception each will cause."
   ]
  },
  {
   "cell_type": "code",
   "execution_count": 18,
   "id": "3cf502c6",
   "metadata": {},
   "outputs": [
    {
     "ename": "SyntaxError",
     "evalue": "invalid character '‘' (U+2018) (1290557757.py, line 3)",
     "output_type": "error",
     "traceback": [
      "\u001b[0;36m  Input \u001b[0;32mIn [18]\u001b[0;36m\u001b[0m\n\u001b[0;31m    variable = 6 + ‘a’\u001b[0m\n\u001b[0m                   ^\u001b[0m\n\u001b[0;31mSyntaxError\u001b[0m\u001b[0;31m:\u001b[0m invalid character '‘' (U+2018)\n"
     ]
    }
   ],
   "source": [
    "#1. Trying to add incompatible variables, as in adding \n",
    "\n",
    "variable = 6 + ‘a’\n",
    "print(variable) \n",
    "\n",
    "#SyntaxError: invalid character in identifier"
   ]
  },
  {
   "cell_type": "code",
   "execution_count": 19,
   "id": "19a8b47c",
   "metadata": {},
   "outputs": [
    {
     "ename": "IndexError",
     "evalue": "list index out of range",
     "output_type": "error",
     "traceback": [
      "\u001b[0;31m---------------------------------------------------------------------------\u001b[0m",
      "\u001b[0;31mIndexError\u001b[0m                                Traceback (most recent call last)",
      "Input \u001b[0;32mIn [19]\u001b[0m, in \u001b[0;36m<cell line: 3>\u001b[0;34m()\u001b[0m\n\u001b[1;32m      1\u001b[0m \u001b[38;5;66;03m#2.Referring to the 12th item of a list that has only 10 items\u001b[39;00m\n\u001b[1;32m      2\u001b[0m items \u001b[38;5;241m=\u001b[39m [\u001b[38;5;124m\"\u001b[39m\u001b[38;5;124mclass\u001b[39m\u001b[38;5;124m\"\u001b[39m,\u001b[38;5;124m\"\u001b[39m\u001b[38;5;124mobject\u001b[39m\u001b[38;5;124m\"\u001b[39m,\u001b[38;5;124m\"\u001b[39m\u001b[38;5;124mconstructor\u001b[39m\u001b[38;5;124m\"\u001b[39m,\u001b[38;5;124m\"\u001b[39m\u001b[38;5;124mInstance\u001b[39m\u001b[38;5;124m\"\u001b[39m,\u001b[38;5;124m\"\u001b[39m\u001b[38;5;124mchild\u001b[39m\u001b[38;5;124m\"\u001b[39m,\u001b[38;5;124m\"\u001b[39m\u001b[38;5;124mparent\u001b[39m\u001b[38;5;124m\"\u001b[39m,\u001b[38;5;124m\"\u001b[39m\u001b[38;5;124mBigdata\u001b[39m\u001b[38;5;124m\"\u001b[39m,\u001b[38;5;124m\"\u001b[39m\u001b[38;5;124mAnalytics\u001b[39m\u001b[38;5;124m\"\u001b[39m,\u001b[38;5;124m\"\u001b[39m\u001b[38;5;124mOriented\u001b[39m\u001b[38;5;124m\"\u001b[39m,\u001b[38;5;124m\"\u001b[39m\u001b[38;5;124mGoodnews\u001b[39m\u001b[38;5;124m\"\u001b[39m]\n\u001b[0;32m----> 3\u001b[0m \u001b[38;5;28mprint\u001b[39m(\u001b[43mitems\u001b[49m\u001b[43m[\u001b[49m\u001b[38;5;241;43m11\u001b[39;49m\u001b[43m]\u001b[49m)\n",
      "\u001b[0;31mIndexError\u001b[0m: list index out of range"
     ]
    }
   ],
   "source": [
    "#2.Referring to the 12th item of a list that has only 10 items\n",
    "items = [\"class\",\"object\",\"constructor\",\"Instance\",\"child\",\"parent\",\"Bigdata\",\"Analytics\",\"Oriented\",\"Goodnews\"]\n",
    "print(items[11])\n",
    "\n",
    "#IndexError: list index out of range\n",
    "\n",
    "\n"
   ]
  },
  {
   "cell_type": "code",
   "execution_count": 20,
   "id": "1d7dab7b",
   "metadata": {},
   "outputs": [
    {
     "ename": "ValueError",
     "evalue": "math domain error",
     "output_type": "error",
     "traceback": [
      "\u001b[0;31m---------------------------------------------------------------------------\u001b[0m",
      "\u001b[0;31mValueError\u001b[0m                                Traceback (most recent call last)",
      "Input \u001b[0;32mIn [20]\u001b[0m, in \u001b[0;36m<cell line: 3>\u001b[0;34m()\u001b[0m\n\u001b[1;32m      1\u001b[0m \u001b[38;5;66;03m#Using a value that is out of range for a function’s input, such as calling \u001b[39;00m\n\u001b[0;32m----> 3\u001b[0m \u001b[38;5;28mprint\u001b[39m(\u001b[43mmath\u001b[49m\u001b[38;5;241;43m.\u001b[39;49m\u001b[43msqrt\u001b[49m\u001b[43m(\u001b[49m\u001b[38;5;241;43m-\u001b[39;49m\u001b[38;5;241;43m20\u001b[39;49m\u001b[43m)\u001b[49m)\n",
      "\u001b[0;31mValueError\u001b[0m: math domain error"
     ]
    }
   ],
   "source": [
    "#Using a value that is out of range for a function’s input, such as calling \n",
    "\n",
    "print(math.sqrt(-20))\n",
    "\n",
    "#ValueError: math domain error\n",
    "\n"
   ]
  },
  {
   "cell_type": "code",
   "execution_count": 21,
   "id": "6de328ff",
   "metadata": {},
   "outputs": [
    {
     "ename": "NameError",
     "evalue": "name 'x' is not defined",
     "output_type": "error",
     "traceback": [
      "\u001b[0;31m---------------------------------------------------------------------------\u001b[0m",
      "\u001b[0;31mNameError\u001b[0m                                 Traceback (most recent call last)",
      "Input \u001b[0;32mIn [21]\u001b[0m, in \u001b[0;36m<cell line: 3>\u001b[0;34m()\u001b[0m\n\u001b[1;32m      1\u001b[0m \u001b[38;5;66;03m#Using an undeclared variable, such as print(x) when x has not been defined\u001b[39;00m\n\u001b[0;32m----> 3\u001b[0m \u001b[38;5;28mprint\u001b[39m(\u001b[43mx\u001b[49m)\n",
      "\u001b[0;31mNameError\u001b[0m: name 'x' is not defined"
     ]
    }
   ],
   "source": [
    "#Using an undeclared variable, such as print(x) when x has not been defined\n",
    "\n",
    "print(x)\n",
    "\n",
    "#NameError: name 'x' is not defined\n",
    "\n"
   ]
  },
  {
   "cell_type": "code",
   "execution_count": 22,
   "id": "34792f1f",
   "metadata": {},
   "outputs": [
    {
     "ename": "FileNotFoundError",
     "evalue": "[Errno 2] No such file or directory: 'nofile.txt'",
     "output_type": "error",
     "traceback": [
      "\u001b[0;31m---------------------------------------------------------------------------\u001b[0m",
      "\u001b[0;31mFileNotFoundError\u001b[0m                         Traceback (most recent call last)",
      "Input \u001b[0;32mIn [22]\u001b[0m, in \u001b[0;36m<cell line: 2>\u001b[0;34m()\u001b[0m\n\u001b[1;32m      1\u001b[0m \u001b[38;5;66;03m#Trying to open a file that does not exist, such as mistyping the file name or looking in the wrong directory.\u001b[39;00m\n\u001b[0;32m----> 2\u001b[0m currency_file \u001b[38;5;241m=\u001b[39m \u001b[38;5;28;43mopen\u001b[39;49m\u001b[43m(\u001b[49m\u001b[38;5;124;43m'\u001b[39;49m\u001b[38;5;124;43mnofile.txt\u001b[39;49m\u001b[38;5;124;43m'\u001b[39;49m\u001b[43m)\u001b[49m\n",
      "\u001b[0;31mFileNotFoundError\u001b[0m: [Errno 2] No such file or directory: 'nofile.txt'"
     ]
    }
   ],
   "source": [
    "#Trying to open a file that does not exist, such as mistyping the file name or looking in the wrong directory.\n",
    "currency_file = open('nofile.txt')\n",
    "\n",
    "#FileNotFoundError: [Errno 2] No such file or directory: 'nofile.txt"
   ]
  },
  {
   "cell_type": "markdown",
   "id": "db7c85f3",
   "metadata": {},
   "source": [
    "Question 10\n",
    "\n",
    "Encryption is the process of hiding the meaning of a text by substituting letters in the message with other letters, according to some system. If the process is successful, no one but the intended recipient can understand the encrypted message. Cryptanalysis refers to attempts to undo the encryption, even if some details of the encryption are unknown (for example, if an encrypted message has been intercepted). The first step of cryptanalysis is often to build up a table of letter frequencies in the encrypted text. Assume that the string letters is already defined as 'abcdefghijklmnopqrstuvwxyz'. Write a function called frequencies() that takes a string as its only parameter, and returns a list of integers, showing the number of times each character appears in the text. Your function may ignore any characters that are not in letters."
   ]
  },
  {
   "cell_type": "code",
   "execution_count": 23,
   "id": "da07df5f",
   "metadata": {},
   "outputs": [
    {
     "name": "stdout",
     "output_type": "stream",
     "text": [
      "[1, 0, 0, 3, 2, 2, 2, 1, 3, 0, 2, 2, 0, 3, 4, 0, 0, 2, 6, 1, 1, 0, 0, 0, 0, 0]\n"
     ]
    }
   ],
   "source": [
    "def frequencies(string):\n",
    "  total_characters = []\n",
    "  alpha_dictionary = {}\n",
    "  #alphabets\n",
    "  alphabet = ('a','b','c','d','e','f','g','h','i','j','k','l','m','n','o','p','q','r','s','t','u','v','w','x','y','z')\n",
    "    #picking character from every word of input and appending it to total_character list.\n",
    "  for word in string:\n",
    "    for char in word:\n",
    "      if char.isalpha():\n",
    "        total_characters.append(char)\n",
    "  #checking alphabet present in total character list before assigning it count or 0 accordingly.\n",
    "  for char in alphabet:\n",
    "    if char in total_characters:\n",
    "      alpha_dictionary[char] = total_characters.count(char)\n",
    "    else:\n",
    "      alpha_dictionary[char] = 0\n",
    "            \n",
    "#printing values(count) of alphabets in total character list\n",
    "  print(list(alpha_dictionary.values()))\n",
    "  \n",
    "frequencies('Jesus is the kings of kings and lord of lords.')"
   ]
  },
  {
   "cell_type": "code",
   "execution_count": null,
   "id": "2832f8b0",
   "metadata": {},
   "outputs": [],
   "source": []
  }
 ],
 "metadata": {
  "kernelspec": {
   "display_name": "Python 3 (ipykernel)",
   "language": "python",
   "name": "python3"
  },
  "language_info": {
   "codemirror_mode": {
    "name": "ipython",
    "version": 3
   },
   "file_extension": ".py",
   "mimetype": "text/x-python",
   "name": "python",
   "nbconvert_exporter": "python",
   "pygments_lexer": "ipython3",
   "version": "3.9.12"
  }
 },
 "nbformat": 4,
 "nbformat_minor": 5
}
